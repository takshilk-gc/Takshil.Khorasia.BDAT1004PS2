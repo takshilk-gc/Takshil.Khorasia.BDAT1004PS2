{
 "cells": [
  {
   "cell_type": "markdown",
   "id": "47f68117-92f4-46c0-9d89-e0efcad8cd4c",
   "metadata": {},
   "source": [
    "### Question 1:\n",
    "**Consider the following Python module:**\n",
    "\n",
    "```python\n",
    "a = 0\n",
    "\n",
    "def b():\n",
    "    global a\n",
    "    a = c(a)\n",
    "\n",
    "def c(a):\n",
    "    return a + 2\n"
   ]
  },
  {
   "cell_type": "code",
   "execution_count": 41,
   "id": "3a14ddd0-3008-405a-bebc-1c466132ca3c",
   "metadata": {},
   "outputs": [],
   "source": [
    "a = 0 # local variable a = 0, also refreshes the a=0 if cell ran again.\n",
    "def b():\n",
    "    global a # makes a into global variable, so it can be accessed anywhere\n",
    "    a = c(a) # assign global a to return value of func c which adds 2 to it's current value.\n",
    "\n",
    "def c(a):\n",
    "    return a + 2 # local a variable gets added by 2 and returned"
   ]
  },
  {
   "cell_type": "code",
   "execution_count": 42,
   "id": "91d0cb62-f35a-472c-9428-644c33547746",
   "metadata": {},
   "outputs": [],
   "source": [
    "b() # This call, make a global, then executes func c once, which would be 0 + 2 = 2, so a=2 right now"
   ]
  },
  {
   "cell_type": "code",
   "execution_count": 43,
   "id": "388eca3c-9ca9-475d-914e-30b25b5e389c",
   "metadata": {},
   "outputs": [],
   "source": [
    "b() # This call has refrences a which was global, then calls func c again, this time it would be 2+2 = 4, so a=4 now"
   ]
  },
  {
   "cell_type": "code",
   "execution_count": 44,
   "id": "41781726-c95c-44ed-8525-cbbd4cdd7f09",
   "metadata": {},
   "outputs": [],
   "source": [
    "b() # Same as above, in this case func c get's a value as 4, so 4+2 = 6, so a=6"
   ]
  },
  {
   "cell_type": "code",
   "execution_count": 45,
   "id": "5ceae689-3ef0-48e6-8535-db420f982cec",
   "metadata": {},
   "outputs": [
    {
     "data": {
      "text/plain": [
       "6"
      ]
     },
     "execution_count": 45,
     "metadata": {},
     "output_type": "execute_result"
    }
   ],
   "source": [
    "a # this is same as print(a) # since global a = 6, it prints 6 in output"
   ]
  },
  {
   "cell_type": "markdown",
   "id": "b27fb6ca-56bb-4f60-b5e4-a4fd9d3c0fed",
   "metadata": {},
   "source": [
    "### Question 2:\n",
    "**The function `fileLength()` provided takes the name of a file as input and returns the length of the file.**\n",
    "\n",
    "For example:\n",
    "```python\n",
    ">>> fileLength('midterm.py')\n",
    "284\n",
    ">>> fileLength('idterm.py')\n",
    "Traceback (most recent call last):\n",
    "File \"<pyshell#34>\", line 1, in <module>\n",
    "fileLength('idterm.py')\n",
    "File \"/Users/me/midterm.py\", line 3, in fileLength\n",
    "infile = open(filename)\n",
    "FileNotFoundError: [Errno 2] No such file or directory: 'idterm.py'\n",
    "```\n",
    "As shown above, if the file cannot be found by the interpreter or if it cannot be read\n",
    "as a text file, an exception will be raised. Modify function fileLength() so that a\n",
    "friendly message is printed instead:\n",
    "```python\n",
    ">>> fileLength('midterm.py')\n",
    "358\n",
    ">>> fileLength('idterm.py')\n",
    "File idterm.py not found.\n",
    "```"
   ]
  },
  {
   "cell_type": "code",
   "execution_count": 46,
   "id": "adac77cd-0622-4e30-823e-6fc73b194686",
   "metadata": {},
   "outputs": [],
   "source": [
    "def fileLength(fileName):\n",
    "    try:\n",
    "        file = open(fileName)\n",
    "        contents = file.read()\n",
    "        file.close()\n",
    "        print(len(contents))\n",
    "    except FileNotFoundError:\n",
    "        print(f\"File {fileName} not found.\")"
   ]
  },
  {
   "cell_type": "code",
   "execution_count": 47,
   "id": "0f765c81-82e4-4f99-9cea-c2278dfd2804",
   "metadata": {},
   "outputs": [
    {
     "name": "stdout",
     "output_type": "stream",
     "text": [
      "1681\n"
     ]
    }
   ],
   "source": [
    "fileLength('requirements.txt')"
   ]
  },
  {
   "cell_type": "code",
   "execution_count": 48,
   "id": "1018d58a-a35d-4df3-950c-552b77ca838a",
   "metadata": {},
   "outputs": [
    {
     "name": "stdout",
     "output_type": "stream",
     "text": [
      "1011\n"
     ]
    }
   ],
   "source": [
    "fileLength('README.md')"
   ]
  },
  {
   "cell_type": "code",
   "execution_count": 49,
   "id": "e0b97780-41f2-4edf-8c5d-1751bd6e41cd",
   "metadata": {},
   "outputs": [
    {
     "name": "stdout",
     "output_type": "stream",
     "text": [
      "File Takshil.py not found.\n"
     ]
    }
   ],
   "source": [
    "fileLength('Takshil.py')"
   ]
  },
  {
   "cell_type": "code",
   "execution_count": 50,
   "id": "7ad146a6-0346-4f23-a4a5-ef848607615b",
   "metadata": {},
   "outputs": [
    {
     "name": "stdout",
     "output_type": "stream",
     "text": [
      "File need-full-marks-this-assignment.txt not found.\n"
     ]
    }
   ],
   "source": [
    "fileLength('need-full-marks-this-assignment.txt')"
   ]
  },
  {
   "cell_type": "markdown",
   "id": "d405d7a5-e285-4634-8672-2463aafe7e97",
   "metadata": {},
   "source": [
    "### Question 3:\n",
    "**Write a class named `Marsupial` that can be used as shown below:**\n",
    "\n",
    "```python\n",
    ">>> m = Marsupial()\n",
    ">>> m.put_in_pouch('doll')\n",
    ">>> m.put_in_pouch('firetruck')\n",
    ">>> m.put_in_pouch('kitten')\n",
    ">>> m.pouch_contents()\n",
    "['doll', 'firetruck', 'kitten']\n",
    "```\n",
    "\n",
    "Now write a class named Kangaroo as a subclass of Marsupial that inherits all the\n",
    "attributes of Marsupial and also:\n",
    "a. extends the Marsupial __init__ constructor to take, as input, the\n",
    "coordinates x and y of the Kangaroo object,\n",
    "b. supports method jump that takes number values dx and dy as input and\n",
    "movesthe kangaroo by dx units along the x-axis and by dy units along the yaxis, and\n",
    "c. overloads the __str__ operator so it behaves as shown below.\n",
    "```python\n",
    ">>> k = Kangaroo(0,0)\n",
    ">>> print(k)\n",
    "I am a Kangaroo located at coordinates (0,0)\n",
    ">>> k.put_in_pouch('doll')\n",
    ">>> k.put_in_pouch('firetruck')\n",
    ">>> k.put_in_pouch('kitten')\n",
    ">>> k.pouch_contents()\n",
    "['doll', 'firetruck', 'kitten']\n",
    ">>> k.jump(1,0)\n",
    ">>> k.jump(1,0)\n",
    ">>> k.jump(1,0)\n",
    ">>> print(k)\n",
    "I am a Kangaroo located at coordinates (3,0)\n",
    "```\n"
   ]
  },
  {
   "cell_type": "code",
   "execution_count": 51,
   "id": "9857e683-4f5a-4d46-9755-8f15798bba55",
   "metadata": {},
   "outputs": [],
   "source": [
    "# Marsupial class\n",
    "class Marsupial:\n",
    "    def __init__(self):\n",
    "        self.pouch = []\n",
    "    \n",
    "    def put_in_pouch(self, item):\n",
    "        self.pouch.append(item)\n",
    "    \n",
    "    def pouch_contents(self):\n",
    "        return self.pouch\n",
    "\n",
    "# Kangaroo class inheriting from Marsupial\n",
    "class Kangaroo(Marsupial):\n",
    "    def __init__(self, x, y):\n",
    "        super().__init__()  # Inherit Marsupial constructor\n",
    "        self.x = x\n",
    "        self.y = y\n",
    "    \n",
    "    def jump(self, dx, dy):\n",
    "        self.x += dx\n",
    "        self.y += dy\n",
    "    \n",
    "    def __str__(self):\n",
    "        return f'I am a Kangaroo located at coordinates ({self.x},{self.y})'\n"
   ]
  },
  {
   "cell_type": "code",
   "execution_count": 56,
   "id": "b3c70bb4-6fd8-4379-a5d4-86365ec29ed7",
   "metadata": {},
   "outputs": [
    {
     "data": {
      "text/plain": [
       "['doll', 'firetruck', 'kitten']"
      ]
     },
     "execution_count": 56,
     "metadata": {},
     "output_type": "execute_result"
    }
   ],
   "source": [
    "# Testing our Marsupial class, as show in question\n",
    "m = Marsupial()\n",
    "m.put_in_pouch('doll')\n",
    "m.put_in_pouch('firetruck')\n",
    "m.put_in_pouch('kitten')\n",
    "m.pouch_contents()"
   ]
  },
  {
   "cell_type": "code",
   "execution_count": 57,
   "id": "674015ae-dc89-4655-bbc6-e9cf10fcaa8a",
   "metadata": {},
   "outputs": [
    {
     "data": {
      "text/plain": [
       "['doll', 'firetruck', 'kitten', 'chair', 'bed', 'table']"
      ]
     },
     "execution_count": 57,
     "metadata": {},
     "output_type": "execute_result"
    }
   ],
   "source": [
    "# Testing Marsupial class with different values:\n",
    "m.put_in_pouch('chair')\n",
    "m.put_in_pouch('bed')\n",
    "m.put_in_pouch('table')\n",
    "m.pouch_contents()"
   ]
  },
  {
   "cell_type": "code",
   "execution_count": 66,
   "id": "a49bcfac-f553-451e-bd64-3714f0767bf9",
   "metadata": {},
   "outputs": [],
   "source": [
    "# Testing Kangaroo class as mentioned\n",
    "k = Kangaroo(0, 0)"
   ]
  },
  {
   "cell_type": "code",
   "execution_count": 67,
   "id": "d713b1f6-5e07-49c8-82ef-4057612649ec",
   "metadata": {},
   "outputs": [
    {
     "name": "stdout",
     "output_type": "stream",
     "text": [
      "I am a Kangaroo located at coordinates (0,0)\n"
     ]
    }
   ],
   "source": [
    "print(k)"
   ]
  },
  {
   "cell_type": "code",
   "execution_count": 68,
   "id": "eb54ce70-68cc-462b-b2ce-e147f46fc988",
   "metadata": {},
   "outputs": [],
   "source": [
    "# Put all contents in pouch\n",
    "k.put_in_pouch('doll')\n",
    "k.put_in_pouch('firetruck')\n",
    "k.put_in_pouch('kitten')\n",
    "k.put_in_pouch('chair')\n",
    "k.put_in_pouch('bed')\n",
    "k.put_in_pouch('table')"
   ]
  },
  {
   "cell_type": "code",
   "execution_count": 69,
   "id": "d2434025-4060-4029-b757-e2c2cd30160d",
   "metadata": {},
   "outputs": [
    {
     "data": {
      "text/plain": [
       "['doll', 'firetruck', 'kitten', 'chair', 'bed', 'table']"
      ]
     },
     "execution_count": 69,
     "metadata": {},
     "output_type": "execute_result"
    }
   ],
   "source": [
    "# show kangaroo pouch\n",
    "k.pouch_contents()"
   ]
  },
  {
   "cell_type": "code",
   "execution_count": 70,
   "id": "5fbb4605-0db3-4483-850a-d0ffbb13f24c",
   "metadata": {},
   "outputs": [
    {
     "name": "stdout",
     "output_type": "stream",
     "text": [
      "I am a Kangaroo located at coordinates (3,0)\n"
     ]
    }
   ],
   "source": [
    "# using jump func\n",
    "k.jump(1,0)\n",
    "k.jump(1,0)\n",
    "k.jump(1,0)\n",
    "print(k) ## See where it is now.."
   ]
  },
  {
   "cell_type": "code",
   "execution_count": 71,
   "id": "6e9fb157-0db5-4059-b12e-252d027342ed",
   "metadata": {},
   "outputs": [
    {
     "name": "stdout",
     "output_type": "stream",
     "text": [
      "I am a Kangaroo located at coordinates (8,8)\n"
     ]
    }
   ],
   "source": [
    "# making it jump more\n",
    "k.jump(2, 3)\n",
    "k.jump(3, 5)\n",
    "print(k)"
   ]
  },
  {
   "cell_type": "code",
   "execution_count": null,
   "id": "10ac724a-5ba0-4295-aaf8-b28dc4237530",
   "metadata": {},
   "outputs": [],
   "source": []
  }
 ],
 "metadata": {
  "kernelspec": {
   "display_name": "Python 3 (ipykernel)",
   "language": "python",
   "name": "python3"
  },
  "language_info": {
   "codemirror_mode": {
    "name": "ipython",
    "version": 3
   },
   "file_extension": ".py",
   "mimetype": "text/x-python",
   "name": "python",
   "nbconvert_exporter": "python",
   "pygments_lexer": "ipython3",
   "version": "3.12.3"
  }
 },
 "nbformat": 4,
 "nbformat_minor": 5
}
