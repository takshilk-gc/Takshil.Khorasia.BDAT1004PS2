{
 "cells": [
  {
   "cell_type": "markdown",
   "id": "47f68117-92f4-46c0-9d89-e0efcad8cd4c",
   "metadata": {},
   "source": [
    "### Question 1:\n",
    "**Consider the following Python module:**\n",
    "\n",
    "```python\n",
    "a = 0\n",
    "\n",
    "def b():\n",
    "    global a\n",
    "    a = c(a)\n",
    "\n",
    "def c(a):\n",
    "    return a + 2\n",
    "```\n",
    "\n",
    "After importing the module into the interpreter, you execute:\n",
    "```python\n",
    ">>> b()\n",
    ">>> b()\n",
    ">>> b()\n",
    ">>> a\n",
    "```\n",
    "What value is displayed when the last expression (a) is evaluated? Explain your Banswer by indicating what happens in every executed statement."
   ]
  },
  {
   "cell_type": "code",
   "execution_count": 41,
   "id": "3a14ddd0-3008-405a-bebc-1c466132ca3c",
   "metadata": {},
   "outputs": [],
   "source": [
    "a = 0 # local variable a = 0, also refreshes the a=0 if cell ran again.\n",
    "def b():\n",
    "    global a # makes a into global variable, so it can be accessed anywhere\n",
    "    a = c(a) # assign global a to return value of func c which adds 2 to it's current value.\n",
    "\n",
    "def c(a):\n",
    "    return a + 2 # local a variable gets added by 2 and returned"
   ]
  },
  {
   "cell_type": "code",
   "execution_count": 42,
   "id": "91d0cb62-f35a-472c-9428-644c33547746",
   "metadata": {},
   "outputs": [],
   "source": [
    "b() # This call, make a global, then executes func c once, which would be 0 + 2 = 2, so a=2 right now"
   ]
  },
  {
   "cell_type": "code",
   "execution_count": 43,
   "id": "388eca3c-9ca9-475d-914e-30b25b5e389c",
   "metadata": {},
   "outputs": [],
   "source": [
    "b() # This call has refrences a which was global, then calls func c again, this time it would be 2+2 = 4, so a=4 now"
   ]
  },
  {
   "cell_type": "code",
   "execution_count": 44,
   "id": "41781726-c95c-44ed-8525-cbbd4cdd7f09",
   "metadata": {},
   "outputs": [],
   "source": [
    "b() # Same as above, in this case func c get's a value as 4, so 4+2 = 6, so a=6"
   ]
  },
  {
   "cell_type": "code",
   "execution_count": 45,
   "id": "5ceae689-3ef0-48e6-8535-db420f982cec",
   "metadata": {},
   "outputs": [
    {
     "data": {
      "text/plain": [
       "6"
      ]
     },
     "execution_count": 45,
     "metadata": {},
     "output_type": "execute_result"
    }
   ],
   "source": [
    "a # this is same as print(a) # since global a = 6, it prints 6 in output"
   ]
  },
  {
   "cell_type": "markdown",
   "id": "b27fb6ca-56bb-4f60-b5e4-a4fd9d3c0fed",
   "metadata": {},
   "source": [
    "### Question 2:\n",
    "**The function `fileLength()` provided takes the name of a file as input and returns the length of the file.**\n",
    "\n",
    "For example:\n",
    "```python\n",
    ">>> fileLength('midterm.py')\n",
    "284\n",
    ">>> fileLength('idterm.py')\n",
    "Traceback (most recent call last):\n",
    "File \"<pyshell#34>\", line 1, in <module>\n",
    "fileLength('idterm.py')\n",
    "File \"/Users/me/midterm.py\", line 3, in fileLength\n",
    "infile = open(filename)\n",
    "FileNotFoundError: [Errno 2] No such file or directory: 'idterm.py'\n",
    "```\n",
    "As shown above, if the file cannot be found by the interpreter or if it cannot be read\n",
    "as a text file, an exception will be raised. Modify function fileLength() so that a\n",
    "friendly message is printed instead:\n",
    "```python\n",
    ">>> fileLength('midterm.py')\n",
    "358\n",
    ">>> fileLength('idterm.py')\n",
    "File idterm.py not found.\n",
    "```"
   ]
  },
  {
   "cell_type": "code",
   "execution_count": 46,
   "id": "adac77cd-0622-4e30-823e-6fc73b194686",
   "metadata": {},
   "outputs": [],
   "source": [
    "def fileLength(fileName):\n",
    "    try:\n",
    "        file = open(fileName)\n",
    "        contents = file.read()\n",
    "        file.close()\n",
    "        print(len(contents))\n",
    "    except FileNotFoundError:\n",
    "        print(f\"File {fileName} not found.\")"
   ]
  },
  {
   "cell_type": "code",
   "execution_count": 47,
   "id": "0f765c81-82e4-4f99-9cea-c2278dfd2804",
   "metadata": {},
   "outputs": [
    {
     "name": "stdout",
     "output_type": "stream",
     "text": [
      "1681\n"
     ]
    }
   ],
   "source": [
    "fileLength('requirements.txt')"
   ]
  },
  {
   "cell_type": "code",
   "execution_count": 48,
   "id": "1018d58a-a35d-4df3-950c-552b77ca838a",
   "metadata": {},
   "outputs": [
    {
     "name": "stdout",
     "output_type": "stream",
     "text": [
      "1011\n"
     ]
    }
   ],
   "source": [
    "fileLength('README.md')"
   ]
  },
  {
   "cell_type": "code",
   "execution_count": 49,
   "id": "e0b97780-41f2-4edf-8c5d-1751bd6e41cd",
   "metadata": {},
   "outputs": [
    {
     "name": "stdout",
     "output_type": "stream",
     "text": [
      "File Takshil.py not found.\n"
     ]
    }
   ],
   "source": [
    "fileLength('Takshil.py')"
   ]
  },
  {
   "cell_type": "code",
   "execution_count": 50,
   "id": "7ad146a6-0346-4f23-a4a5-ef848607615b",
   "metadata": {},
   "outputs": [
    {
     "name": "stdout",
     "output_type": "stream",
     "text": [
      "File need-full-marks-this-assignment.txt not found.\n"
     ]
    }
   ],
   "source": [
    "fileLength('need-full-marks-this-assignment.txt')"
   ]
  },
  {
   "cell_type": "markdown",
   "id": "d405d7a5-e285-4634-8672-2463aafe7e97",
   "metadata": {},
   "source": [
    "### Question 3:\n",
    "**Write a class named `Marsupial` that can be used as shown below:**\n",
    "\n",
    "```python\n",
    ">>> m = Marsupial()\n",
    ">>> m.put_in_pouch('doll')\n",
    ">>> m.put_in_pouch('firetruck')\n",
    ">>> m.put_in_pouch('kitten')\n",
    ">>> m.pouch_contents()\n",
    "['doll', 'firetruck', 'kitten']\n",
    "```\n",
    "\n",
    "Now write a class named Kangaroo as a subclass of Marsupial that inherits all the\n",
    "attributes of Marsupial and also:\n",
    "a. extends the Marsupial __init__ constructor to take, as input, the\n",
    "coordinates x and y of the Kangaroo object,\n",
    "b. supports method jump that takes number values dx and dy as input and\n",
    "movesthe kangaroo by dx units along the x-axis and by dy units along the yaxis, and\n",
    "c. overloads the __str__ operator so it behaves as shown below.\n",
    "```python\n",
    ">>> k = Kangaroo(0,0)\n",
    ">>> print(k)\n",
    "I am a Kangaroo located at coordinates (0,0)\n",
    ">>> k.put_in_pouch('doll')\n",
    ">>> k.put_in_pouch('firetruck')\n",
    ">>> k.put_in_pouch('kitten')\n",
    ">>> k.pouch_contents()\n",
    "['doll', 'firetruck', 'kitten']\n",
    ">>> k.jump(1,0)\n",
    ">>> k.jump(1,0)\n",
    ">>> k.jump(1,0)\n",
    ">>> print(k)\n",
    "I am a Kangaroo located at coordinates (3,0)\n",
    "```\n"
   ]
  },
  {
   "cell_type": "code",
   "execution_count": 51,
   "id": "9857e683-4f5a-4d46-9755-8f15798bba55",
   "metadata": {},
   "outputs": [],
   "source": [
    "# Marsupial class\n",
    "class Marsupial:\n",
    "    def __init__(self):\n",
    "        self.pouch = []\n",
    "    \n",
    "    def put_in_pouch(self, item):\n",
    "        self.pouch.append(item)\n",
    "    \n",
    "    def pouch_contents(self):\n",
    "        return self.pouch\n",
    "\n",
    "# Kangaroo class inheriting from Marsupial\n",
    "class Kangaroo(Marsupial):\n",
    "    def __init__(self, x, y):\n",
    "        super().__init__()  # Inherit Marsupial constructor\n",
    "        self.x = x\n",
    "        self.y = y\n",
    "    \n",
    "    def jump(self, dx, dy):\n",
    "        self.x += dx\n",
    "        self.y += dy\n",
    "    \n",
    "    def __str__(self):\n",
    "        return f'I am a Kangaroo located at coordinates ({self.x},{self.y})'\n"
   ]
  },
  {
   "cell_type": "code",
   "execution_count": 56,
   "id": "b3c70bb4-6fd8-4379-a5d4-86365ec29ed7",
   "metadata": {},
   "outputs": [
    {
     "data": {
      "text/plain": [
       "['doll', 'firetruck', 'kitten']"
      ]
     },
     "execution_count": 56,
     "metadata": {},
     "output_type": "execute_result"
    }
   ],
   "source": [
    "# Testing our Marsupial class, as show in question\n",
    "m = Marsupial()\n",
    "m.put_in_pouch('doll')\n",
    "m.put_in_pouch('firetruck')\n",
    "m.put_in_pouch('kitten')\n",
    "m.pouch_contents()"
   ]
  },
  {
   "cell_type": "code",
   "execution_count": 57,
   "id": "674015ae-dc89-4655-bbc6-e9cf10fcaa8a",
   "metadata": {},
   "outputs": [
    {
     "data": {
      "text/plain": [
       "['doll', 'firetruck', 'kitten', 'chair', 'bed', 'table']"
      ]
     },
     "execution_count": 57,
     "metadata": {},
     "output_type": "execute_result"
    }
   ],
   "source": [
    "# Testing Marsupial class with different values:\n",
    "m.put_in_pouch('chair')\n",
    "m.put_in_pouch('bed')\n",
    "m.put_in_pouch('table')\n",
    "m.pouch_contents()"
   ]
  },
  {
   "cell_type": "code",
   "execution_count": 66,
   "id": "a49bcfac-f553-451e-bd64-3714f0767bf9",
   "metadata": {},
   "outputs": [],
   "source": [
    "# Testing Kangaroo class as mentioned\n",
    "k = Kangaroo(0, 0)"
   ]
  },
  {
   "cell_type": "code",
   "execution_count": 67,
   "id": "d713b1f6-5e07-49c8-82ef-4057612649ec",
   "metadata": {},
   "outputs": [
    {
     "name": "stdout",
     "output_type": "stream",
     "text": [
      "I am a Kangaroo located at coordinates (0,0)\n"
     ]
    }
   ],
   "source": [
    "print(k)"
   ]
  },
  {
   "cell_type": "code",
   "execution_count": 68,
   "id": "eb54ce70-68cc-462b-b2ce-e147f46fc988",
   "metadata": {},
   "outputs": [],
   "source": [
    "# Put all contents in pouch\n",
    "k.put_in_pouch('doll')\n",
    "k.put_in_pouch('firetruck')\n",
    "k.put_in_pouch('kitten')\n",
    "k.put_in_pouch('chair')\n",
    "k.put_in_pouch('bed')\n",
    "k.put_in_pouch('table')"
   ]
  },
  {
   "cell_type": "code",
   "execution_count": 69,
   "id": "d2434025-4060-4029-b757-e2c2cd30160d",
   "metadata": {},
   "outputs": [
    {
     "data": {
      "text/plain": [
       "['doll', 'firetruck', 'kitten', 'chair', 'bed', 'table']"
      ]
     },
     "execution_count": 69,
     "metadata": {},
     "output_type": "execute_result"
    }
   ],
   "source": [
    "# show kangaroo pouch\n",
    "k.pouch_contents()"
   ]
  },
  {
   "cell_type": "code",
   "execution_count": 70,
   "id": "5fbb4605-0db3-4483-850a-d0ffbb13f24c",
   "metadata": {},
   "outputs": [
    {
     "name": "stdout",
     "output_type": "stream",
     "text": [
      "I am a Kangaroo located at coordinates (3,0)\n"
     ]
    }
   ],
   "source": [
    "# using jump func\n",
    "k.jump(1,0)\n",
    "k.jump(1,0)\n",
    "k.jump(1,0)\n",
    "print(k) ## See where it is now.."
   ]
  },
  {
   "cell_type": "code",
   "execution_count": 71,
   "id": "6e9fb157-0db5-4059-b12e-252d027342ed",
   "metadata": {},
   "outputs": [
    {
     "name": "stdout",
     "output_type": "stream",
     "text": [
      "I am a Kangaroo located at coordinates (8,8)\n"
     ]
    }
   ],
   "source": [
    "# making it jump more\n",
    "k.jump(2, 3)\n",
    "k.jump(3, 5)\n",
    "print(k)"
   ]
  },
  {
   "cell_type": "markdown",
   "id": "776c7a80-b080-44d7-8276-894dedd75be4",
   "metadata": {},
   "source": [
    "### Question 4\n",
    "Write a function `collatz()` that takes a positive integer `x` as input and prints the Collatz sequence starting at `x`. \n",
    "A Collatz sequence is obtained by repeatedly applying this rule to the previous number `x` in the sequence:\n",
    "- If `x` is even, the next number is `x / 2`\n",
    "- If `x` is odd, the next number is `3 * x + 1`\n",
    "Your function should stop when the sequence gets to number 1. Your implementation must be recursive, without any loops.\n",
    "\n",
    "Example:\n",
    "```python\n",
    ">>> collatz(1)\n",
    "1\n",
    ">>> collatz(10)\n",
    "10\n",
    "5\n",
    "16\n",
    "8\n",
    "4\n",
    "2\n",
    "1\n",
    "```\n",
    "\n",
    "```python\n"
   ]
  },
  {
   "cell_type": "code",
   "execution_count": 1,
   "id": "c1b27899-c055-4c58-8cba-6fa19b290df0",
   "metadata": {},
   "outputs": [],
   "source": [
    "# Function definition\n",
    "def collatz(x):\n",
    "    # Print the current value of x\n",
    "    print(x)\n",
    "    \n",
    "    # Base case: stop when x is 1\n",
    "    if x == 1:\n",
    "        return\n",
    "    # Recursive case for even numbers\n",
    "    elif x % 2 == 0:\n",
    "        collatz(x // 2)\n",
    "    # Recursive case for odd numbers\n",
    "    else:\n",
    "        collatz(3 * x + 1)\n"
   ]
  },
  {
   "cell_type": "code",
   "execution_count": 3,
   "id": "c7f16382-cc34-4690-a6f2-98d5448bab0e",
   "metadata": {},
   "outputs": [
    {
     "name": "stdout",
     "output_type": "stream",
     "text": [
      "1\n"
     ]
    }
   ],
   "source": [
    "# Example with x = 1\n",
    "collatz(1)"
   ]
  },
  {
   "cell_type": "code",
   "execution_count": 4,
   "id": "900c0e26-7837-42d9-ab48-032ee53fb419",
   "metadata": {},
   "outputs": [
    {
     "name": "stdout",
     "output_type": "stream",
     "text": [
      "10\n",
      "5\n",
      "16\n",
      "8\n",
      "4\n",
      "2\n",
      "1\n"
     ]
    }
   ],
   "source": [
    "# Example with x = 10\n",
    "collatz(10)"
   ]
  },
  {
   "cell_type": "code",
   "execution_count": 6,
   "id": "71e44b3d-0988-4316-8577-60f9c1c56349",
   "metadata": {},
   "outputs": [
    {
     "name": "stdout",
     "output_type": "stream",
     "text": [
      "26\n",
      "13\n",
      "40\n",
      "20\n",
      "10\n",
      "5\n",
      "16\n",
      "8\n",
      "4\n",
      "2\n",
      "1\n"
     ]
    }
   ],
   "source": [
    "# Example with x = 26\n",
    "collatz(26)"
   ]
  },
  {
   "cell_type": "markdown",
   "id": "e1c491f6-3d39-464d-8eb8-9eaad55a2dac",
   "metadata": {},
   "source": [
    "### Question 5\n",
    "Write a recursive method `binary()` that takes a non-negative integer `n` and prints the binary representation of integer `n`.\n",
    "\n",
    "Example:\n",
    "```python\n",
    ">>> binary(0)\n",
    "0\n",
    ">>> binary(1)\n",
    "1\n",
    ">>> binary(3)\n",
    "11\n",
    ">>> binary(9)\n",
    "1001\n",
    "```"
   ]
  },
  {
   "cell_type": "code",
   "execution_count": 8,
   "id": "bd7849b1-0c62-45dc-97a2-e7926c02a549",
   "metadata": {},
   "outputs": [],
   "source": [
    "# Function definition\n",
    "def binary(n):\n",
    "    # Base case: if n is 0, print 0 and return\n",
    "    if n == 0:\n",
    "        print(0, end='')\n",
    "        return\n",
    "    # If n is 1, print 1 and return\n",
    "    elif n == 1:\n",
    "        print(1, end='')\n",
    "        return\n",
    "    # Recursive case: first divide n by 2 and call binary on n // 2\n",
    "    else:\n",
    "        binary(n // 2)\n",
    "        print(n % 2, end='')  # Print the remainder when n is divided by 2"
   ]
  },
  {
   "cell_type": "code",
   "execution_count": 9,
   "id": "fe4d84c5-4b07-49b7-a5b6-6da3b23d4d12",
   "metadata": {},
   "outputs": [
    {
     "name": "stdout",
     "output_type": "stream",
     "text": [
      "0"
     ]
    }
   ],
   "source": [
    "# Example with n = 0\n",
    "binary(0)  # Output: 0"
   ]
  },
  {
   "cell_type": "code",
   "execution_count": 10,
   "id": "e2c22f9b-a312-4d85-a486-263f92607fc8",
   "metadata": {},
   "outputs": [
    {
     "name": "stdout",
     "output_type": "stream",
     "text": [
      "1"
     ]
    }
   ],
   "source": [
    "# Example with n = 1\n",
    "binary(1)  # Output: 1"
   ]
  },
  {
   "cell_type": "code",
   "execution_count": 11,
   "id": "e04d903f-df0a-4c8d-ab03-89374e43df31",
   "metadata": {},
   "outputs": [
    {
     "name": "stdout",
     "output_type": "stream",
     "text": [
      "11"
     ]
    }
   ],
   "source": [
    "# Example with n = 3\n",
    "binary(3)  # Output: 11"
   ]
  },
  {
   "cell_type": "code",
   "execution_count": 12,
   "id": "c7a3c1ba-703d-4556-a7ac-ab69db106067",
   "metadata": {},
   "outputs": [
    {
     "name": "stdout",
     "output_type": "stream",
     "text": [
      "1001"
     ]
    }
   ],
   "source": [
    "# Example with n = 9\n",
    "binary(9)  # Output: 1001"
   ]
  },
  {
   "cell_type": "code",
   "execution_count": 17,
   "id": "37dad40b-b4f2-4a60-b0ef-24ac4f5c0942",
   "metadata": {},
   "outputs": [
    {
     "name": "stdout",
     "output_type": "stream",
     "text": [
      "11110100"
     ]
    }
   ],
   "source": [
    "# Use case on 244\n",
    "binary(244)"
   ]
  },
  {
   "cell_type": "markdown",
   "id": "0049e8f6-4092-4d97-8786-1706bc47acdf",
   "metadata": {},
   "source": [
    "### Question 6\n",
    "Implement a class named HeadingParser that can be used to parse an HTML\n",
    "document, and retrieve and print all the headings in the document. You should\n",
    "implement your class as a subclass of HTMLParser, defined in Standard Library\n",
    "module html.parser. When fed a string containing HTML code, your class should\n",
    "print the headings, one per line and in the order in which they appear in the\n",
    "document.Each heading should be indented asfollows: an h1 heading should have indentation 0, and h2 heading should have indentation 1, etc. Test your\n",
    "implementation using w3c.html.\n",
    "\n",
    "```python\n",
    ">>> infile = open('w3c.html')\n",
    ">>> content = infile.read()\n",
    ">>> infile.close()\n",
    ">>> hp = HeadingParser()\n",
    ">>> hp.feed(content)\n",
    "W3C Mission\n",
    "Principles\n",
    "```"
   ]
  },
  {
   "cell_type": "code",
   "execution_count": 19,
   "id": "0ab4e55b-6933-45e0-a611-4957661ebbbd",
   "metadata": {},
   "outputs": [
    {
     "name": "stdout",
     "output_type": "stream",
     "text": [
      "W3C Mission\n",
      " Principles\n"
     ]
    }
   ],
   "source": [
    "from html.parser import HTMLParser\n",
    "\n",
    "# Class definition\n",
    "class HeadingParser(HTMLParser):\n",
    "    # Initialize the class and define heading level tracking\n",
    "    def __init__(self):\n",
    "        super().__init__()\n",
    "        self.currentHeadingLevel = 0\n",
    "        self.isHeading = False\n",
    "\n",
    "    # Handle the start tag\n",
    "    def handle_starttag(self, tag, attrs):\n",
    "        # Check if the tag is a heading (h1, h2, etc.)\n",
    "        if tag in ['h1', 'h2', 'h3', 'h4', 'h5', 'h6']:\n",
    "            self.currentHeadingLevel = int(tag[1])  # Extract the level from the tag (e.g., 'h2' -> 2)\n",
    "            self.isHeading = True  # Set flag indicating we're inside a heading tag\n",
    "\n",
    "    # Handle the end tag\n",
    "    def handle_endtag(self, tag):\n",
    "        # Reset the flag when exiting a heading tag\n",
    "        if tag in ['h1', 'h2', 'h3', 'h4', 'h5', 'h6']:\n",
    "            self.isHeading = False\n",
    "\n",
    "    # Handle the data inside the tag\n",
    "    def handle_data(self, data):\n",
    "        # Only print the data if it belongs to a heading tag\n",
    "        if self.isHeading:\n",
    "            # Indent based on the heading level (h1 -> 0, h2 -> 1, etc.)\n",
    "            print(' ' * (self.currentHeadingLevel - 1) + data.strip())\n",
    "\n",
    "# Example HTML content\n",
    "infile = open('w3c.html')\n",
    "content = infile.read()\n",
    "infile.close()\n",
    "\n",
    "# Feed the content to the HeadingParser\n",
    "hp = HeadingParser()\n",
    "hp.feed(content)"
   ]
  },
  {
   "cell_type": "code",
   "execution_count": 20,
   "id": "9eafa81d-efec-48aa-b0d6-385badfdf42d",
   "metadata": {},
   "outputs": [
    {
     "name": "stdout",
     "output_type": "stream",
     "text": [
      "Takshil\n",
      " BDAT\n",
      "  BDAT\n",
      "   23rd Oct 2024\n"
     ]
    }
   ],
   "source": [
    "infile = open('Takshil-test.html')\n",
    "content = infile.read()\n",
    "infile.close()\n",
    "\n",
    "# Feed the content to the HeadingParser\n",
    "hp = HeadingParser()\n",
    "hp.feed(content)"
   ]
  },
  {
   "cell_type": "markdown",
   "id": "687b058c-3233-4a2d-a2f8-e15b3abfb871",
   "metadata": {},
   "source": [
    "### Question 7\n",
    "Implement recursive function webdir() that takes as input: a URL (as a string) and\n",
    "non-negative integers depth and indent. Your function should visit every web\n",
    "page reachable from the starting URL web page in depth clicks or less, and print\n",
    "each web pages URL. As shown below, indentation, specified by indent, should\n",
    "be used to indicate the depth of a URL.\n",
    "```python\n",
    ">>>\n",
    "webdir('http://reed.cs.depaul.edu/lperkovic/csc242/test1.html'\n",
    ", 2, 0)\n",
    "http://reed.cs.depaul.edu/lperkovic/csc242/test1.html\n",
    "http://reed.cs.depaul.edu/lperkovic/csc242/test2.html\n",
    "http://reed.cs.depaul.edu/lperkovic/csc242/test4.html\n",
    "http://reed.cs.depaul.edu/lperkovic/csc242/test3.html\n",
    "http://reed.cs.depaul.edu/lperkovic/csc242/test4.html\n",
    "```"
   ]
  },
  {
   "cell_type": "code",
   "execution_count": 22,
   "id": "99e2cd37-3797-4f25-97f2-a95d7db6d2c4",
   "metadata": {},
   "outputs": [],
   "source": [
    "import requests\n",
    "from bs4 import BeautifulSoup\n",
    "\n",
    "# Recursive function to explore URLs\n",
    "def webdir(url, depth, indent):\n",
    "    if depth < 0:\n",
    "        return\n",
    "\n",
    "    # Print the current URL with the specified indentation\n",
    "    print(' ' * indent + url)\n",
    "\n",
    "    try:\n",
    "        # Send a GET request to the specified URL\n",
    "        response = requests.get(url)\n",
    "        response.raise_for_status()  # Raise an error for bad responses\n",
    "    except (requests.exceptions.RequestException, ValueError):\n",
    "        return  # Return if there's an issue with the request\n",
    "\n",
    "    # Parse the HTML content using BeautifulSoup\n",
    "    soup = BeautifulSoup(response.text, 'html.parser')\n",
    "\n",
    "    # Find all links on the page\n",
    "    for link in soup.find_all('a', href=True):\n",
    "        next_url = link['href']\n",
    "        # Ensure the URL is absolute; if it's relative, combine with the base URL\n",
    "        if not next_url.startswith('http'):\n",
    "            next_url = requests.compat.urljoin(url, next_url)\n",
    "        # Recursively call webdir for the next URL with decreased depth and increased indentation\n",
    "        webdir(next_url, depth - 1, indent + 2)\n"
   ]
  },
  {
   "cell_type": "code",
   "execution_count": 23,
   "id": "3bc8fe84-e96b-4ea2-a8e3-9619b66a405a",
   "metadata": {},
   "outputs": [
    {
     "name": "stdout",
     "output_type": "stream",
     "text": [
      "http://reed.cs.depaul.edu/lperkovic/csc242/test1.html\n"
     ]
    }
   ],
   "source": [
    "webdir('http://reed.cs.depaul.edu/lperkovic/csc242/test1.html', 2, 0)"
   ]
  },
  {
   "cell_type": "code",
   "execution_count": 25,
   "id": "fd434ea9-ebf2-4f28-8f27-66109f0c8f4a",
   "metadata": {},
   "outputs": [
    {
     "name": "stdout",
     "output_type": "stream",
     "text": [
      " https://github.com/takshil-k?tab=repositories\n",
      "   https://github.com/takshil-k?tab=repositories#start-of-content\n",
      "   https://github.com/\n",
      "   https://github.com/login?return_to=https%3A%2F%2Fgithub.com%2Ftakshil-k%3Ftab%3Drepositories\n",
      "   https://github.com/features/copilot\n",
      "   https://github.com/features/security\n",
      "   https://github.com/features/actions\n",
      "   https://github.com/features/codespaces\n",
      "   https://github.com/features/issues\n",
      "   https://github.com/features/code-review\n",
      "   https://github.com/features/discussions\n",
      "   https://github.com/features/code-search\n",
      "   https://github.com/features\n",
      "   https://docs.github.com\n",
      "   https://skills.github.com\n",
      "   https://github.blog\n",
      "   https://github.com/enterprise\n",
      "   https://github.com/team\n",
      "   https://github.com/enterprise/startups\n",
      "   https://github.com/solutions/use-case/devsecops\n",
      "   https://github.com/solutions/use-case/devops\n",
      "   https://github.com/solutions/use-case/ci-cd\n",
      "   https://github.com/solutions/use-case\n",
      "   https://github.com/solutions/industry/healthcare\n",
      "   https://github.com/solutions/industry/financial-services\n",
      "   https://github.com/solutions/industry/manufacturing\n",
      "   https://github.com/solutions/industry/government\n",
      "   https://github.com/solutions/industry\n",
      "   https://github.com/solutions\n",
      "   https://github.com/resources/articles/ai\n",
      "   https://github.com/resources/articles/devops\n",
      "   https://github.com/resources/articles/security\n",
      "   https://github.com/resources/articles/software-development\n",
      "   https://github.com/resources/articles\n",
      "   https://resources.github.com/learn/pathways\n",
      "   https://resources.github.com\n",
      "   https://github.com/customer-stories\n",
      "   https://partner.github.com\n",
      "   https://github.com/sponsors\n",
      "   https://github.com/readme\n",
      "   https://github.com/topics\n",
      "   https://github.com/trending\n",
      "   https://github.com/collections\n",
      "   https://github.com/enterprise\n",
      "   https://github.com/enterprise/advanced-security\n",
      "   https://github.com/features/copilot#enterprise\n",
      "   https://github.com/premium-support\n",
      "   https://github.com/pricing\n",
      "   https://docs.github.com/search-github/github-code-search/understanding-github-code-search-syntax\n",
      "   https://docs.github.com/search-github/github-code-search/understanding-github-code-search-syntax\n",
      "   https://github.com/login?return_to=https%3A%2F%2Fgithub.com%2Ftakshil-k%3Ftab%3Drepositories\n",
      "   https://github.com/signup?ref_cta=Sign+up&ref_loc=header+logged+out&ref_page=%2Ftakshil-k&source=header\n",
      "   https://github.com/takshil-k?tab=repositories\n",
      "   https://github.com/takshil-k?tab=repositories\n",
      "   https://github.com/takshil-k?tab=repositories\n",
      "   https://github.com/login?return_to=https%3A%2F%2Fgithub.com%2Ftakshil-k%3Ftab%3Drepositories\n",
      "   https://github.com/takshil-k\n",
      "   https://github.com/takshil-k?tab=repositories\n",
      "   https://github.com/takshil-k?tab=projects\n",
      "   https://github.com/takshil-k?tab=packages\n",
      "   https://github.com/takshil-k?tab=stars\n",
      "   https://github.com/takshil-k\n",
      "   https://github.com/takshil-k?tab=repositories\n",
      "   https://github.com/takshil-k?tab=projects\n",
      "   https://github.com/takshil-k?tab=packages\n",
      "   https://github.com/takshil-k?tab=stars\n",
      "   https://github.com/login?return_to=https%3A%2F%2Fgithub.com%2Ftakshil-k%3Ftab%3Drepositories\n",
      "   https://avatars.githubusercontent.com/u/55104471?v=4\n",
      "   https://github.com/login?return_to=https%3A%2F%2Fgithub.com%2Ftakshil-k%3Ftab%3Drepositories\n",
      "   https://github.com/takshil-k?tab=followers\n",
      "   https://github.com/takshil-k?tab=following\n",
      "   https://github.com/takshil-k?tab=achievements\n",
      "   https://github.com/takshil-k?achievement=quickdraw&tab=achievements\n",
      "   https://github.com/takshil-k?achievement=yolo&tab=achievements\n",
      "   https://github.com/takshil-k?achievement=pull-shark&tab=achievements\n",
      "   https://github.com/takshil-k?achievement=arctic-code-vault-contributor&tab=achievements\n",
      "   https://github.com/takshil-k?tab=achievements\n",
      "   https://github.com/takshil-k?achievement=quickdraw&tab=achievements\n",
      "   https://github.com/takshil-k?achievement=yolo&tab=achievements\n",
      "   https://github.com/takshil-k?achievement=pull-shark&tab=achievements\n",
      "   https://github.com/takshil-k?achievement=arctic-code-vault-contributor&tab=achievements\n",
      "   https://docs.github.com/articles/blocking-a-user-from-your-personal-account\n",
      "   https://docs.github.com/articles/reporting-abuse-or-spam\n",
      "   https://github.com/contact/report-abuse?report=takshil-k+%28user%29\n",
      "   https://github.com/takshil-k\n",
      "   https://github.com/takshil-k?tab=repositories\n",
      "   https://github.com/takshil-k?tab=projects\n",
      "   https://github.com/takshil-k?tab=packages\n",
      "   https://github.com/takshil-k?tab=stars\n",
      "   https://github.com/takshil-k\n",
      "   https://github.com/takshil-k?tab=repositories\n",
      "   https://github.com/takshil-k?tab=projects\n",
      "   https://github.com/takshil-k?tab=packages\n",
      "   https://github.com/takshil-k?tab=stars\n",
      "   https://github.com/takshil-k/google_image_scraper\n",
      "   https://github.com/takshil-k/google_image_scraper/stargazers\n",
      "   https://github.com/takshil-k/google_image_scraper/forks\n",
      "   https://github.com/takshil-k/backendAssignment\n",
      "   https://github.com/takshil-k/backendAssignment/stargazers\n",
      "   https://github.com/takshil-k/botocore\n",
      "   https://github.com/boto/botocore\n",
      "   https://github.com/takshil-k/dataSceinceNotes\n",
      "   https://github.com/takshil-k/hello-world\n",
      "   https://github.com\n",
      "   https://docs.github.com/site-policy/github-terms/github-terms-of-service\n",
      "   https://docs.github.com/site-policy/privacy-policies/github-privacy-statement\n",
      "   https://github.com/security\n",
      "   https://www.githubstatus.com/\n",
      "   https://docs.github.com/\n",
      "   https://support.github.com?tags=dotcom-footer\n"
     ]
    }
   ],
   "source": [
    "webdir('https://github.com/takshil-k?tab=repositories', 1, 1)"
   ]
  },
  {
   "cell_type": "code",
   "execution_count": 28,
   "id": "6effb4d1-a34e-4ee5-b6ad-ca4cb96b9da4",
   "metadata": {},
   "outputs": [
    {
     "name": "stdout",
     "output_type": "stream",
     "text": [
      "  https://www.lipsum.com/\n",
      "    http://hy.lipsum.com/\n",
      "    http://sq.lipsum.com/\n",
      "    http://ar.lipsum.com/\n",
      "    http://bg.lipsum.com/\n",
      "    http://ca.lipsum.com/\n",
      "    http://cn.lipsum.com/\n",
      "    http://hr.lipsum.com/\n",
      "    http://cs.lipsum.com/\n",
      "    http://da.lipsum.com/\n",
      "    http://nl.lipsum.com/\n",
      "    http://www.lipsum.com/\n",
      "    http://et.lipsum.com/\n",
      "    http://ph.lipsum.com/\n",
      "    http://fi.lipsum.com/\n",
      "    http://fr.lipsum.com/\n",
      "    http://ka.lipsum.com/\n",
      "    http://de.lipsum.com/\n",
      "    http://el.lipsum.com/\n",
      "    http://he.lipsum.com/\n",
      "    http://hi.lipsum.com/\n",
      "    http://hu.lipsum.com/\n",
      "    http://id.lipsum.com/\n",
      "    http://it.lipsum.com/\n",
      "    http://lv.lipsum.com/\n",
      "    http://lt.lipsum.com/\n",
      "    http://mk.lipsum.com/\n",
      "    http://ms.lipsum.com/\n",
      "    http://no.lipsum.com/\n",
      "    http://pl.lipsum.com/\n",
      "    http://pt.lipsum.com/\n",
      "    http://ro.lipsum.com/\n",
      "    http://ru.lipsum.com/\n",
      "    http://sr.lipsum.com/\n",
      "    http://sk.lipsum.com/\n",
      "    http://sl.lipsum.com/\n",
      "    http://es.lipsum.com/\n",
      "    http://sv.lipsum.com/\n",
      "    http://th.lipsum.com/\n",
      "    http://tr.lipsum.com/\n",
      "    http://uk.lipsum.com/\n",
      "    http://vi.lipsum.com/\n",
      "    https://www.lipsum.com/donate\n",
      "    https://www.lipsum.com/banners\n",
      "    https://www.lipsum.com/banners\n",
      "    https://www.lipsum.com/banners\n",
      "    https://www.lipsum.com/banners\n",
      "    https://github.com/traviskaufman/node-lipsum\n",
      "    https://code.google.com/p/pypsum/\n",
      "    https://gtklipsum.sourceforge.net/\n",
      "    https://github.com/gsavage/lorem_ipsum/tree/master\n",
      "    https://github.com/cerkit/LoremIpsum/\n",
      "    mailto:help@lipsum.com\n",
      "    https://www.lipsum.com/privacy\n"
     ]
    }
   ],
   "source": [
    "webdir('https://www.lipsum.com/', 1, 2)"
   ]
  },
  {
   "cell_type": "markdown",
   "id": "24cade7f-ae43-458b-bb34-9ec437da6e74",
   "metadata": {},
   "source": [
    "### Question 8\n",
    "Write SQL queries on the below database table that return:\n",
    "a) All the temperature data.\n",
    "b) All the cities, but without repetition.\n",
    "c) All the records for India.\n",
    "d) All the Fall records.\n",
    "e) The city, country, and season for which the average rainfall is between 200\n",
    "and 400 millimeters.\n",
    "f) The city and country for which the average Fall temperature is above 20\n",
    "degrees, in increasing temperature order.\n",
    "g) The total annual rainfall for Cairo.\n",
    "04\n",
    "h) The total rainfall for each season.\n",
    "\n",
    "### Database Table Structure\n",
    "| City   | Country         | Season   | Temperature (C) | Rainfall (mm) |\n",
    "|--------|------------------|----------|------------------|----------------|\n",
    "| Mumbai | India            | Winter   | 24.8             | 5.9            |\n",
    "| Mumbai | India            | Spring   | 28.4             | 16.2           |\n",
    "| Mumbai | India            | Summer   | 27.9             | 1549.4         |\n",
    "| Mumbai | India            | Fall     | 27.6             | 346.0          |\n",
    "| London | United Kingdom   | Winter   | 4.2              | 207.7          |\n",
    "| London | United Kingdom   | Spring   | 8.3              | 169.6          |\n",
    "| London | United Kingdom   | Summer   | 15.7             | 157.0          |\n",
    "| London | United Kingdom   | Fall     | 10.4             | 218.5          |\n",
    "| Cairo  | Egypt            | Winter   | 13.6             | 16.5           |\n",
    "| Cairo  | Egypt            | Spring   | 20.7             | 6.5            |\n",
    "| Cairo  | Egypt            | Summer   | 27.7             | 0.1            |\n",
    "| Cairo  | Egypt            | Fall     | 22.2             | 4.5            |"
   ]
  },
  {
   "cell_type": "code",
   "execution_count": 30,
   "id": "05395017-dc72-4ad3-9d26-8c92cdede9e6",
   "metadata": {},
   "outputs": [
    {
     "name": "stdout",
     "output_type": "stream",
     "text": [
      "a) All the temperature data:\n",
      "(24.8,)\n",
      "(28.4,)\n",
      "(27.9,)\n",
      "(27.6,)\n",
      "(4.2,)\n",
      "(8.3,)\n",
      "(15.7,)\n",
      "(10.4,)\n",
      "(13.6,)\n",
      "(20.7,)\n",
      "(27.7,)\n",
      "(22.2,)\n",
      "\n",
      "b) All the cities, but without repetition:\n",
      "('Cairo',)\n",
      "('London',)\n",
      "('Mumbai',)\n",
      "\n",
      "c) All the records for India:\n",
      "('Mumbai', 'India', 'Winter', 24.8, 5.9)\n",
      "('Mumbai', 'India', 'Spring', 28.4, 16.2)\n",
      "('Mumbai', 'India', 'Summer', 27.9, 1549.4)\n",
      "('Mumbai', 'India', 'Fall', 27.6, 346.0)\n",
      "\n",
      "d) All the Fall records:\n",
      "('Mumbai', 'India', 'Fall', 27.6, 346.0)\n",
      "('London', 'United Kingdom', 'Fall', 10.4, 218.5)\n",
      "('Cairo', 'Egypt', 'Fall', 22.2, 4.5)\n",
      "\n",
      "e) City, country, and season for average rainfall between 200 and 400 mm:\n",
      "('London', 'United Kingdom', 'Fall')\n",
      "('London', 'United Kingdom', 'Winter')\n",
      "('Mumbai', 'India', 'Fall')\n",
      "\n",
      "f) City and country for average Fall temperature above 20 degrees:\n",
      "('Cairo', 'Egypt')\n",
      "('Mumbai', 'India')\n",
      "\n",
      "g) Total annual rainfall for Cairo:\n",
      "(27.6,)\n",
      "\n",
      "h) Total rainfall for each season:\n",
      "('Fall', 569.0)\n",
      "('Spring', 192.29999999999998)\n",
      "('Summer', 1706.5)\n",
      "('Winter', 230.1)\n"
     ]
    }
   ],
   "source": [
    "import sqlite3\n",
    "\n",
    "# Connect to SQLite database (or create it if it doesn't exist)\n",
    "conn = sqlite3.connect('weather_data.db')\n",
    "cursor = conn.cursor()\n",
    "\n",
    "# Create a table with a unique constraint on City, Country, Season\n",
    "cursor.execute('''\n",
    "CREATE TABLE IF NOT EXISTS WeatherData (\n",
    "    City TEXT,\n",
    "    Country TEXT,\n",
    "    Season TEXT,\n",
    "    Temperature REAL,\n",
    "    Rainfall REAL,\n",
    "    UNIQUE(City, Country, Season)\n",
    ")\n",
    "''')\n",
    "\n",
    "# Insert the data into the WeatherData table\n",
    "data = [\n",
    "    ('Mumbai', 'India', 'Winter', 24.8, 5.9),\n",
    "    ('Mumbai', 'India', 'Spring', 28.4, 16.2),\n",
    "    ('Mumbai', 'India', 'Summer', 27.9, 1549.4),\n",
    "    ('Mumbai', 'India', 'Fall', 27.6, 346.0),\n",
    "    ('London', 'United Kingdom', 'Winter', 4.2, 207.7),\n",
    "    ('London', 'United Kingdom', 'Spring', 8.3, 169.6),\n",
    "    ('London', 'United Kingdom', 'Summer', 15.7, 157.0),\n",
    "    ('London', 'United Kingdom', 'Fall', 10.4, 218.5),\n",
    "    ('Cairo', 'Egypt', 'Winter', 13.6, 16.5),\n",
    "    ('Cairo', 'Egypt', 'Spring', 20.7, 6.5),\n",
    "    ('Cairo', 'Egypt', 'Summer', 27.7, 0.1),\n",
    "    ('Cairo', 'Egypt', 'Fall', 22.2, 4.5)\n",
    "]\n",
    "\n",
    "# Insert data into the table\n",
    "cursor.executemany('''\n",
    "INSERT OR IGNORE INTO WeatherData (City, Country, Season, Temperature, Rainfall)\n",
    "VALUES (?, ?, ?, ?, ?)\n",
    "''', data)\n",
    "\n",
    "# Commit changes\n",
    "conn.commit()\n",
    "\n",
    "# Function to execute a query and print the results\n",
    "def execute_query(query):\n",
    "    cursor.execute(query)\n",
    "    results = cursor.fetchall()\n",
    "    for row in results:\n",
    "        print(row)\n",
    "\n",
    "# a) All the temperature data.\n",
    "print(\"a) All the temperature data:\")\n",
    "execute_query(\"SELECT Temperature FROM WeatherData;\")\n",
    "\n",
    "# b) All the cities, but without repetition.\n",
    "print(\"\\nb) All the cities, but without repetition:\")\n",
    "execute_query(\"SELECT DISTINCT City FROM WeatherData;\")\n",
    "\n",
    "# c) All the records for India.\n",
    "print(\"\\nc) All the records for India:\")\n",
    "execute_query(\"SELECT * FROM WeatherData WHERE Country = 'India';\")\n",
    "\n",
    "# d) All the Fall records.\n",
    "print(\"\\nd) All the Fall records:\")\n",
    "execute_query(\"SELECT * FROM WeatherData WHERE Season = 'Fall';\")\n",
    "\n",
    "# e) The city, country, and season for which the average rainfall is between 200 and 400 millimeters.\n",
    "print(\"\\ne) City, country, and season for average rainfall between 200 and 400 mm:\")\n",
    "execute_query('''\n",
    "SELECT City, Country, Season\n",
    "FROM WeatherData\n",
    "GROUP BY City, Country, Season\n",
    "HAVING AVG(Rainfall) BETWEEN 200 AND 400;\n",
    "''')\n",
    "\n",
    "# f) The city and country for which the average Fall temperature is above 20 degrees, in increasing temperature order.\n",
    "print(\"\\nf) City and country for average Fall temperature above 20 degrees:\")\n",
    "execute_query('''\n",
    "SELECT City, Country\n",
    "FROM WeatherData\n",
    "WHERE Season = 'Fall'\n",
    "GROUP BY City, Country\n",
    "HAVING AVG(Temperature) > 20\n",
    "ORDER BY AVG(Temperature) ASC;\n",
    "''')\n",
    "\n",
    "# g) The total annual rainfall for Cairo.\n",
    "print(\"\\ng) Total annual rainfall for Cairo:\")\n",
    "execute_query(\"SELECT SUM(Rainfall) AS TotalRainfall FROM WeatherData WHERE City = 'Cairo';\")\n",
    "\n",
    "# h) The total rainfall for each season.\n",
    "print(\"\\nh) Total rainfall for each season:\")\n",
    "execute_query('''\n",
    "SELECT Season, SUM(Rainfall) AS TotalRainfall\n",
    "FROM WeatherData\n",
    "GROUP BY Season;\n",
    "''')\n",
    "\n",
    "# Close the connection\n",
    "conn.close()\n"
   ]
  },
  {
   "cell_type": "markdown",
   "id": "afe253dc-0b04-478e-bfa6-c97c08e592b8",
   "metadata": {},
   "source": [
    "### Question 9\n",
    ". Suppose list words is defined as follows:\n",
    "```python\n",
    ">>> words = ['The', 'quick', 'brown', 'fox', 'jumps', 'over',\n",
    "'the', 'lazy', 'dog']\n",
    "```\n",
    "Write list comprehension expressions that use list words and generate the following\n",
    "lists:\n",
    "\n",
    "a) ['THE', 'QUICK', 'BROWN', 'FOX', 'JUMPS', 'OVER', 'THE',\n",
    "'LAZY', 'DOG']\n",
    "\n",
    "b) ['the', 'quick', 'brown', 'fox', 'jumps', 'over', 'the',\n",
    "'lazy', 'dog']\n",
    "\n",
    "c) [3, 5, 5, 3, 5, 4, 3, 4, 3] (the list of lengths of words in list\n",
    "words).\n",
    "\n",
    "d) [['THE', 'the', 3], ['QUICK', 'quick', 5], ['BROWN',\n",
    "'brown', 5], ['FOX', 'fox', 3], ['JUMPS', 'jumps', 5],\n",
    "['OVER', 'over', 4], ['THE', 'the', 3], ['LAZY', 'lazy',\n",
    "4], ['DOG', 'dog', 3]] (the list containing a list for every word of list\n",
    "words, where each list contains the word in uppercase and lowercase and the\n",
    "length of the word.)\n",
    "\n",
    "e) ['The', 'quick', 'brown', 'fox', 'jumps', 'over', 'the',\n",
    "'lazy', 'dog'] (the list of words in list words containing 4 or more\n",
    "characters.)"
   ]
  },
  {
   "cell_type": "code",
   "execution_count": 35,
   "id": "c0a7745b-4a01-47bd-8ed9-2751c15dc2b8",
   "metadata": {},
   "outputs": [],
   "source": [
    "# Given list\n",
    "words = ['The', 'quick', 'brown', 'fox', 'jumps', 'over', 'the', 'lazy', 'dog']\n",
    "\n",
    "def question9Operations(wordList):\n",
    "    # a) Convert all words to uppercase\n",
    "    uppercase_words = [word.upper() for word in wordList]\n",
    "    print(uppercase_words)  # eg ['THE', 'QUICK', 'BROWN', 'FOX', 'JUMPS', 'OVER', 'THE', 'LAZY', 'DOG']\n",
    "    \n",
    "    # b) The original list in lowercase\n",
    "    lowercase_words = [word.lower() for word in wordList]\n",
    "    print(lowercase_words)  # eg ['the', 'quick', 'brown', 'fox', 'jumps', 'over', 'the', 'lazy', 'dog']\n",
    "    \n",
    "    # c) List of lengths of words\n",
    "    word_lengths = [len(word) for word in wordList]\n",
    "    print(word_lengths)  # eg [3, 5, 5, 3, 5, 4, 3, 4, 3]\n",
    "    \n",
    "    # d) List containing a list for every word\n",
    "    word_details = [[word.upper(), word.lower(), len(word)] for word in wordList]\n",
    "    print(word_details)  # eg [['THE', 'the', 3], ['QUICK', 'quick', 5], ['BROWN', 'brown', 5], ['FOX', 'fox', 3], ['JUMPS', 'jumps', 5], ['OVER', 'over', 4], ['THE', 'the', 3], ['LAZY', 'lazy', 4], ['DOG', 'dog', 3]]\n",
    "    \n",
    "    # e) List of words with 4 or more characters\n",
    "    long_words = [word for word in wordList if len(word) >= 4]\n",
    "    print(long_words)  # eg ['quick', 'brown', 'jumps', 'over', 'lazy']\n"
   ]
  },
  {
   "cell_type": "code",
   "execution_count": 36,
   "id": "c2ef0d6d-ce93-459b-bc12-f0231dac22f0",
   "metadata": {},
   "outputs": [
    {
     "name": "stdout",
     "output_type": "stream",
     "text": [
      "['THE', 'QUICK', 'BROWN', 'FOX', 'JUMPS', 'OVER', 'THE', 'LAZY', 'DOG']\n",
      "['the', 'quick', 'brown', 'fox', 'jumps', 'over', 'the', 'lazy', 'dog']\n",
      "[3, 5, 5, 3, 5, 4, 3, 4, 3]\n",
      "[['THE', 'the', 3], ['QUICK', 'quick', 5], ['BROWN', 'brown', 5], ['FOX', 'fox', 3], ['JUMPS', 'jumps', 5], ['OVER', 'over', 4], ['THE', 'the', 3], ['LAZY', 'lazy', 4], ['DOG', 'dog', 3]]\n",
      "['quick', 'brown', 'jumps', 'over', 'lazy']\n"
     ]
    }
   ],
   "source": [
    "question9Operations(words)"
   ]
  },
  {
   "cell_type": "code",
   "execution_count": 38,
   "id": "361ac124-21ca-427b-a4dc-ba393bde48af",
   "metadata": {},
   "outputs": [
    {
     "name": "stdout",
     "output_type": "stream",
     "text": [
      "['TAKSHIL', 'KHORASIA', 'BDAT', '1004', 'DATA PROGRAMMING', 'FALL 2024', 'ROSHAN SAHU', 'ABC']\n",
      "['takshil', 'khorasia', 'bdat', '1004', 'data programming', 'fall 2024', 'roshan sahu', 'abc']\n",
      "[7, 8, 4, 4, 16, 9, 11, 3]\n",
      "[['TAKSHIL', 'takshil', 7], ['KHORASIA', 'khorasia', 8], ['BDAT', 'bdat', 4], ['1004', '1004', 4], ['DATA PROGRAMMING', 'data programming', 16], ['FALL 2024', 'fall 2024', 9], ['ROSHAN SAHU', 'roshan sahu', 11], ['ABC', 'abc', 3]]\n",
      "['Takshil', 'Khorasia', 'BDAT', '1004', 'Data Programming', 'Fall 2024', 'Roshan Sahu']\n"
     ]
    }
   ],
   "source": [
    "wordsNewList = ['Takshil', 'Khorasia', 'BDAT', '1004', 'Data Programming', 'Fall 2024', 'Roshan Sahu', 'abc']\n",
    "question9Operations(wordsNewList)"
   ]
  },
  {
   "cell_type": "code",
   "execution_count": null,
   "id": "1e35fa29-ad54-4fe7-b44a-b261681f7fce",
   "metadata": {},
   "outputs": [],
   "source": []
  }
 ],
 "metadata": {
  "kernelspec": {
   "display_name": "Python 3 (ipykernel)",
   "language": "python",
   "name": "python3"
  },
  "language_info": {
   "codemirror_mode": {
    "name": "ipython",
    "version": 3
   },
   "file_extension": ".py",
   "mimetype": "text/x-python",
   "name": "python",
   "nbconvert_exporter": "python",
   "pygments_lexer": "ipython3",
   "version": "3.12.3"
  }
 },
 "nbformat": 4,
 "nbformat_minor": 5
}
